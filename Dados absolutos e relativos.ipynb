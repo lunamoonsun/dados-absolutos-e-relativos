{
 "cells": [
  {
   "cell_type": "code",
   "execution_count": 1,
   "id": "b1ca172a",
   "metadata": {},
   "outputs": [],
   "source": [
    "import pandas as pd"
   ]
  },
  {
   "cell_type": "code",
   "execution_count": 2,
   "id": "b9efb80e",
   "metadata": {},
   "outputs": [],
   "source": [
    "dados = {'emprego':['Administrador_banco_de_dados', 'Prorgamador', 'Arquiteto_de_redes'],\n",
    "        'new_jersey':[97350, 82080, 112840],\n",
    "        'florida':[77140, 71540, 62310]}"
   ]
  },
  {
   "cell_type": "code",
   "execution_count": 5,
   "id": "340ba194",
   "metadata": {},
   "outputs": [
    {
     "data": {
      "text/plain": [
       "dict"
      ]
     },
     "execution_count": 5,
     "metadata": {},
     "output_type": "execute_result"
    }
   ],
   "source": [
    "type(dados)\n",
    "\n",
    "# Tipo da variável"
   ]
  },
  {
   "cell_type": "code",
   "execution_count": 7,
   "id": "937a599a",
   "metadata": {},
   "outputs": [],
   "source": [
    "dataset = pd.DataFrame(dados)\n",
    "\n",
    "# Criando um dataframe"
   ]
  },
  {
   "cell_type": "code",
   "execution_count": 9,
   "id": "66fd4a7c",
   "metadata": {},
   "outputs": [
    {
     "data": {
      "text/html": [
       "<div>\n",
       "<style scoped>\n",
       "    .dataframe tbody tr th:only-of-type {\n",
       "        vertical-align: middle;\n",
       "    }\n",
       "\n",
       "    .dataframe tbody tr th {\n",
       "        vertical-align: top;\n",
       "    }\n",
       "\n",
       "    .dataframe thead th {\n",
       "        text-align: right;\n",
       "    }\n",
       "</style>\n",
       "<table border=\"1\" class=\"dataframe\">\n",
       "  <thead>\n",
       "    <tr style=\"text-align: right;\">\n",
       "      <th></th>\n",
       "      <th>emprego</th>\n",
       "      <th>new_jersey</th>\n",
       "      <th>florida</th>\n",
       "    </tr>\n",
       "  </thead>\n",
       "  <tbody>\n",
       "    <tr>\n",
       "      <th>0</th>\n",
       "      <td>Administrador_banco_de_dados</td>\n",
       "      <td>97350</td>\n",
       "      <td>77140</td>\n",
       "    </tr>\n",
       "    <tr>\n",
       "      <th>1</th>\n",
       "      <td>Prorgamador</td>\n",
       "      <td>82080</td>\n",
       "      <td>71540</td>\n",
       "    </tr>\n",
       "    <tr>\n",
       "      <th>2</th>\n",
       "      <td>Arquiteto_de_redes</td>\n",
       "      <td>112840</td>\n",
       "      <td>62310</td>\n",
       "    </tr>\n",
       "  </tbody>\n",
       "</table>\n",
       "</div>"
      ],
      "text/plain": [
       "                        emprego  new_jersey  florida\n",
       "0  Administrador_banco_de_dados       97350    77140\n",
       "1                   Prorgamador       82080    71540\n",
       "2            Arquiteto_de_redes      112840    62310"
      ]
     },
     "execution_count": 9,
     "metadata": {},
     "output_type": "execute_result"
    }
   ],
   "source": [
    "dataset\n",
    "\n",
    "# Dataframe criado"
   ]
  },
  {
   "cell_type": "code",
   "execution_count": 11,
   "id": "1b2412fb",
   "metadata": {},
   "outputs": [
    {
     "data": {
      "text/plain": [
       "292270"
      ]
     },
     "execution_count": 11,
     "metadata": {},
     "output_type": "execute_result"
    }
   ],
   "source": [
    "dataset['new_jersey'].sum()\n",
    "\n",
    "# Somando os valores da coluna new jersey"
   ]
  },
  {
   "cell_type": "code",
   "execution_count": 13,
   "id": "649dc261",
   "metadata": {},
   "outputs": [
    {
     "data": {
      "text/plain": [
       "210990"
      ]
     },
     "execution_count": 13,
     "metadata": {},
     "output_type": "execute_result"
    }
   ],
   "source": [
    "dataset['florida'].sum()\n",
    "\n",
    "# Somando valores da coluna florida"
   ]
  },
  {
   "cell_type": "code",
   "execution_count": 17,
   "id": "985af2b2",
   "metadata": {},
   "outputs": [],
   "source": [
    "dataset['%_new_jersey'] = (dataset['new_jersey'] / dataset['new_jersey'].sum() * 100)\n",
    "\n",
    "# Calculando a porcentagem disponível para cada valor do dataset"
   ]
  },
  {
   "cell_type": "code",
   "execution_count": 18,
   "id": "48e7dfd1",
   "metadata": {},
   "outputs": [
    {
     "data": {
      "text/html": [
       "<div>\n",
       "<style scoped>\n",
       "    .dataframe tbody tr th:only-of-type {\n",
       "        vertical-align: middle;\n",
       "    }\n",
       "\n",
       "    .dataframe tbody tr th {\n",
       "        vertical-align: top;\n",
       "    }\n",
       "\n",
       "    .dataframe thead th {\n",
       "        text-align: right;\n",
       "    }\n",
       "</style>\n",
       "<table border=\"1\" class=\"dataframe\">\n",
       "  <thead>\n",
       "    <tr style=\"text-align: right;\">\n",
       "      <th></th>\n",
       "      <th>emprego</th>\n",
       "      <th>new_jersey</th>\n",
       "      <th>florida</th>\n",
       "      <th>%_new_jersey</th>\n",
       "    </tr>\n",
       "  </thead>\n",
       "  <tbody>\n",
       "    <tr>\n",
       "      <th>0</th>\n",
       "      <td>Administrador_banco_de_dados</td>\n",
       "      <td>97350</td>\n",
       "      <td>77140</td>\n",
       "      <td>33.308242</td>\n",
       "    </tr>\n",
       "    <tr>\n",
       "      <th>1</th>\n",
       "      <td>Prorgamador</td>\n",
       "      <td>82080</td>\n",
       "      <td>71540</td>\n",
       "      <td>28.083621</td>\n",
       "    </tr>\n",
       "    <tr>\n",
       "      <th>2</th>\n",
       "      <td>Arquiteto_de_redes</td>\n",
       "      <td>112840</td>\n",
       "      <td>62310</td>\n",
       "      <td>38.608136</td>\n",
       "    </tr>\n",
       "  </tbody>\n",
       "</table>\n",
       "</div>"
      ],
      "text/plain": [
       "                        emprego  new_jersey  florida  %_new_jersey\n",
       "0  Administrador_banco_de_dados       97350    77140     33.308242\n",
       "1                   Prorgamador       82080    71540     28.083621\n",
       "2            Arquiteto_de_redes      112840    62310     38.608136"
      ]
     },
     "execution_count": 18,
     "metadata": {},
     "output_type": "execute_result"
    }
   ],
   "source": [
    "dataset"
   ]
  },
  {
   "cell_type": "code",
   "execution_count": 19,
   "id": "bebb643c",
   "metadata": {},
   "outputs": [],
   "source": [
    "dataset['%_florida'] = (dataset['florida'] / dataset['florida'].sum() * 100)"
   ]
  },
  {
   "cell_type": "code",
   "execution_count": 20,
   "id": "812c0026",
   "metadata": {},
   "outputs": [
    {
     "data": {
      "text/html": [
       "<div>\n",
       "<style scoped>\n",
       "    .dataframe tbody tr th:only-of-type {\n",
       "        vertical-align: middle;\n",
       "    }\n",
       "\n",
       "    .dataframe tbody tr th {\n",
       "        vertical-align: top;\n",
       "    }\n",
       "\n",
       "    .dataframe thead th {\n",
       "        text-align: right;\n",
       "    }\n",
       "</style>\n",
       "<table border=\"1\" class=\"dataframe\">\n",
       "  <thead>\n",
       "    <tr style=\"text-align: right;\">\n",
       "      <th></th>\n",
       "      <th>emprego</th>\n",
       "      <th>new_jersey</th>\n",
       "      <th>florida</th>\n",
       "      <th>%_new_jersey</th>\n",
       "      <th>%_florida</th>\n",
       "    </tr>\n",
       "  </thead>\n",
       "  <tbody>\n",
       "    <tr>\n",
       "      <th>0</th>\n",
       "      <td>Administrador_banco_de_dados</td>\n",
       "      <td>97350</td>\n",
       "      <td>77140</td>\n",
       "      <td>33.308242</td>\n",
       "      <td>36.560974</td>\n",
       "    </tr>\n",
       "    <tr>\n",
       "      <th>1</th>\n",
       "      <td>Prorgamador</td>\n",
       "      <td>82080</td>\n",
       "      <td>71540</td>\n",
       "      <td>28.083621</td>\n",
       "      <td>33.906820</td>\n",
       "    </tr>\n",
       "    <tr>\n",
       "      <th>2</th>\n",
       "      <td>Arquiteto_de_redes</td>\n",
       "      <td>112840</td>\n",
       "      <td>62310</td>\n",
       "      <td>38.608136</td>\n",
       "      <td>29.532205</td>\n",
       "    </tr>\n",
       "  </tbody>\n",
       "</table>\n",
       "</div>"
      ],
      "text/plain": [
       "                        emprego  new_jersey  florida  %_new_jersey  %_florida\n",
       "0  Administrador_banco_de_dados       97350    77140     33.308242  36.560974\n",
       "1                   Prorgamador       82080    71540     28.083621  33.906820\n",
       "2            Arquiteto_de_redes      112840    62310     38.608136  29.532205"
      ]
     },
     "execution_count": 20,
     "metadata": {},
     "output_type": "execute_result"
    }
   ],
   "source": [
    "dataset"
   ]
  },
  {
   "cell_type": "markdown",
   "id": "e46de65b",
   "metadata": {},
   "source": [
    "------------------------------------------------------------------------"
   ]
  },
  {
   "cell_type": "markdown",
   "id": "6d80ff30",
   "metadata": {},
   "source": [
    "# Vamos trabalhar com os dados do census e observar alguma relação do education e o atributo income"
   ]
  },
  {
   "cell_type": "code",
   "execution_count": 21,
   "id": "035c911d",
   "metadata": {},
   "outputs": [],
   "source": [
    "dados = pd.read_csv('census.csv')"
   ]
  },
  {
   "cell_type": "code",
   "execution_count": 22,
   "id": "f269bc80",
   "metadata": {},
   "outputs": [
    {
     "data": {
      "text/html": [
       "<div>\n",
       "<style scoped>\n",
       "    .dataframe tbody tr th:only-of-type {\n",
       "        vertical-align: middle;\n",
       "    }\n",
       "\n",
       "    .dataframe tbody tr th {\n",
       "        vertical-align: top;\n",
       "    }\n",
       "\n",
       "    .dataframe thead th {\n",
       "        text-align: right;\n",
       "    }\n",
       "</style>\n",
       "<table border=\"1\" class=\"dataframe\">\n",
       "  <thead>\n",
       "    <tr style=\"text-align: right;\">\n",
       "      <th></th>\n",
       "      <th>age</th>\n",
       "      <th>workclass</th>\n",
       "      <th>final-weight</th>\n",
       "      <th>education</th>\n",
       "      <th>education-num</th>\n",
       "      <th>marital-status</th>\n",
       "      <th>occupation</th>\n",
       "      <th>relationship</th>\n",
       "      <th>race</th>\n",
       "      <th>sex</th>\n",
       "      <th>capital-gain</th>\n",
       "      <th>capital-loos</th>\n",
       "      <th>hour-per-week</th>\n",
       "      <th>native-country</th>\n",
       "      <th>income</th>\n",
       "    </tr>\n",
       "  </thead>\n",
       "  <tbody>\n",
       "    <tr>\n",
       "      <th>0</th>\n",
       "      <td>39</td>\n",
       "      <td>State-gov</td>\n",
       "      <td>77516</td>\n",
       "      <td>Bachelors</td>\n",
       "      <td>13</td>\n",
       "      <td>Never-married</td>\n",
       "      <td>Adm-clerical</td>\n",
       "      <td>Not-in-family</td>\n",
       "      <td>White</td>\n",
       "      <td>Male</td>\n",
       "      <td>2174</td>\n",
       "      <td>0</td>\n",
       "      <td>40</td>\n",
       "      <td>United-States</td>\n",
       "      <td>&lt;=50K</td>\n",
       "    </tr>\n",
       "    <tr>\n",
       "      <th>1</th>\n",
       "      <td>50</td>\n",
       "      <td>Self-emp-not-inc</td>\n",
       "      <td>83311</td>\n",
       "      <td>Bachelors</td>\n",
       "      <td>13</td>\n",
       "      <td>Married-civ-spouse</td>\n",
       "      <td>Exec-managerial</td>\n",
       "      <td>Husband</td>\n",
       "      <td>White</td>\n",
       "      <td>Male</td>\n",
       "      <td>0</td>\n",
       "      <td>0</td>\n",
       "      <td>13</td>\n",
       "      <td>United-States</td>\n",
       "      <td>&lt;=50K</td>\n",
       "    </tr>\n",
       "    <tr>\n",
       "      <th>2</th>\n",
       "      <td>38</td>\n",
       "      <td>Private</td>\n",
       "      <td>215646</td>\n",
       "      <td>HS-grad</td>\n",
       "      <td>9</td>\n",
       "      <td>Divorced</td>\n",
       "      <td>Handlers-cleaners</td>\n",
       "      <td>Not-in-family</td>\n",
       "      <td>White</td>\n",
       "      <td>Male</td>\n",
       "      <td>0</td>\n",
       "      <td>0</td>\n",
       "      <td>40</td>\n",
       "      <td>United-States</td>\n",
       "      <td>&lt;=50K</td>\n",
       "    </tr>\n",
       "    <tr>\n",
       "      <th>3</th>\n",
       "      <td>53</td>\n",
       "      <td>Private</td>\n",
       "      <td>234721</td>\n",
       "      <td>11th</td>\n",
       "      <td>7</td>\n",
       "      <td>Married-civ-spouse</td>\n",
       "      <td>Handlers-cleaners</td>\n",
       "      <td>Husband</td>\n",
       "      <td>Black</td>\n",
       "      <td>Male</td>\n",
       "      <td>0</td>\n",
       "      <td>0</td>\n",
       "      <td>40</td>\n",
       "      <td>United-States</td>\n",
       "      <td>&lt;=50K</td>\n",
       "    </tr>\n",
       "    <tr>\n",
       "      <th>4</th>\n",
       "      <td>28</td>\n",
       "      <td>Private</td>\n",
       "      <td>338409</td>\n",
       "      <td>Bachelors</td>\n",
       "      <td>13</td>\n",
       "      <td>Married-civ-spouse</td>\n",
       "      <td>Prof-specialty</td>\n",
       "      <td>Wife</td>\n",
       "      <td>Black</td>\n",
       "      <td>Female</td>\n",
       "      <td>0</td>\n",
       "      <td>0</td>\n",
       "      <td>40</td>\n",
       "      <td>Cuba</td>\n",
       "      <td>&lt;=50K</td>\n",
       "    </tr>\n",
       "  </tbody>\n",
       "</table>\n",
       "</div>"
      ],
      "text/plain": [
       "   age          workclass  final-weight   education  education-num  \\\n",
       "0   39          State-gov         77516   Bachelors             13   \n",
       "1   50   Self-emp-not-inc         83311   Bachelors             13   \n",
       "2   38            Private        215646     HS-grad              9   \n",
       "3   53            Private        234721        11th              7   \n",
       "4   28            Private        338409   Bachelors             13   \n",
       "\n",
       "        marital-status          occupation    relationship    race      sex  \\\n",
       "0        Never-married        Adm-clerical   Not-in-family   White     Male   \n",
       "1   Married-civ-spouse     Exec-managerial         Husband   White     Male   \n",
       "2             Divorced   Handlers-cleaners   Not-in-family   White     Male   \n",
       "3   Married-civ-spouse   Handlers-cleaners         Husband   Black     Male   \n",
       "4   Married-civ-spouse      Prof-specialty            Wife   Black   Female   \n",
       "\n",
       "   capital-gain  capital-loos  hour-per-week  native-country  income  \n",
       "0          2174             0             40   United-States   <=50K  \n",
       "1             0             0             13   United-States   <=50K  \n",
       "2             0             0             40   United-States   <=50K  \n",
       "3             0             0             40   United-States   <=50K  \n",
       "4             0             0             40            Cuba   <=50K  "
      ]
     },
     "execution_count": 22,
     "metadata": {},
     "output_type": "execute_result"
    }
   ],
   "source": [
    "dados.head()"
   ]
  },
  {
   "cell_type": "code",
   "execution_count": 30,
   "id": "6596134c",
   "metadata": {},
   "outputs": [],
   "source": [
    "dt = dados[['education','income']]\n",
    "\n",
    "dataframe = pd.DataFrame(dt)"
   ]
  },
  {
   "cell_type": "code",
   "execution_count": 31,
   "id": "5b11a91a",
   "metadata": {},
   "outputs": [
    {
     "data": {
      "text/html": [
       "<div>\n",
       "<style scoped>\n",
       "    .dataframe tbody tr th:only-of-type {\n",
       "        vertical-align: middle;\n",
       "    }\n",
       "\n",
       "    .dataframe tbody tr th {\n",
       "        vertical-align: top;\n",
       "    }\n",
       "\n",
       "    .dataframe thead th {\n",
       "        text-align: right;\n",
       "    }\n",
       "</style>\n",
       "<table border=\"1\" class=\"dataframe\">\n",
       "  <thead>\n",
       "    <tr style=\"text-align: right;\">\n",
       "      <th></th>\n",
       "      <th>education</th>\n",
       "      <th>income</th>\n",
       "    </tr>\n",
       "  </thead>\n",
       "  <tbody>\n",
       "    <tr>\n",
       "      <th>0</th>\n",
       "      <td>Bachelors</td>\n",
       "      <td>&lt;=50K</td>\n",
       "    </tr>\n",
       "    <tr>\n",
       "      <th>1</th>\n",
       "      <td>Bachelors</td>\n",
       "      <td>&lt;=50K</td>\n",
       "    </tr>\n",
       "    <tr>\n",
       "      <th>2</th>\n",
       "      <td>HS-grad</td>\n",
       "      <td>&lt;=50K</td>\n",
       "    </tr>\n",
       "    <tr>\n",
       "      <th>3</th>\n",
       "      <td>11th</td>\n",
       "      <td>&lt;=50K</td>\n",
       "    </tr>\n",
       "    <tr>\n",
       "      <th>4</th>\n",
       "      <td>Bachelors</td>\n",
       "      <td>&lt;=50K</td>\n",
       "    </tr>\n",
       "    <tr>\n",
       "      <th>...</th>\n",
       "      <td>...</td>\n",
       "      <td>...</td>\n",
       "    </tr>\n",
       "    <tr>\n",
       "      <th>32556</th>\n",
       "      <td>Assoc-acdm</td>\n",
       "      <td>&lt;=50K</td>\n",
       "    </tr>\n",
       "    <tr>\n",
       "      <th>32557</th>\n",
       "      <td>HS-grad</td>\n",
       "      <td>&gt;50K</td>\n",
       "    </tr>\n",
       "    <tr>\n",
       "      <th>32558</th>\n",
       "      <td>HS-grad</td>\n",
       "      <td>&lt;=50K</td>\n",
       "    </tr>\n",
       "    <tr>\n",
       "      <th>32559</th>\n",
       "      <td>HS-grad</td>\n",
       "      <td>&lt;=50K</td>\n",
       "    </tr>\n",
       "    <tr>\n",
       "      <th>32560</th>\n",
       "      <td>HS-grad</td>\n",
       "      <td>&gt;50K</td>\n",
       "    </tr>\n",
       "  </tbody>\n",
       "</table>\n",
       "<p>32561 rows × 2 columns</p>\n",
       "</div>"
      ],
      "text/plain": [
       "         education  income\n",
       "0        Bachelors   <=50K\n",
       "1        Bachelors   <=50K\n",
       "2          HS-grad   <=50K\n",
       "3             11th   <=50K\n",
       "4        Bachelors   <=50K\n",
       "...            ...     ...\n",
       "32556   Assoc-acdm   <=50K\n",
       "32557      HS-grad    >50K\n",
       "32558      HS-grad   <=50K\n",
       "32559      HS-grad   <=50K\n",
       "32560      HS-grad    >50K\n",
       "\n",
       "[32561 rows x 2 columns]"
      ]
     },
     "execution_count": 31,
     "metadata": {},
     "output_type": "execute_result"
    }
   ],
   "source": [
    "dataframe"
   ]
  },
  {
   "cell_type": "code",
   "execution_count": 40,
   "id": "8c536ff1",
   "metadata": {},
   "outputs": [],
   "source": [
    "dataset3 = dataframe.groupby(['education', 'income'])['education'].count()"
   ]
  },
  {
   "cell_type": "code",
   "execution_count": 43,
   "id": "cacde699",
   "metadata": {},
   "outputs": [
    {
     "data": {
      "text/plain": [
       "MultiIndex([(        ' 10th', ' <=50K'),\n",
       "            (        ' 10th',  ' >50K'),\n",
       "            (        ' 11th', ' <=50K'),\n",
       "            (        ' 11th',  ' >50K'),\n",
       "            (        ' 12th', ' <=50K'),\n",
       "            (        ' 12th',  ' >50K'),\n",
       "            (     ' 1st-4th', ' <=50K'),\n",
       "            (     ' 1st-4th',  ' >50K'),\n",
       "            (     ' 5th-6th', ' <=50K'),\n",
       "            (     ' 5th-6th',  ' >50K'),\n",
       "            (     ' 7th-8th', ' <=50K'),\n",
       "            (     ' 7th-8th',  ' >50K'),\n",
       "            (         ' 9th', ' <=50K'),\n",
       "            (         ' 9th',  ' >50K'),\n",
       "            (  ' Assoc-acdm', ' <=50K'),\n",
       "            (  ' Assoc-acdm',  ' >50K'),\n",
       "            (   ' Assoc-voc', ' <=50K'),\n",
       "            (   ' Assoc-voc',  ' >50K'),\n",
       "            (   ' Bachelors', ' <=50K'),\n",
       "            (   ' Bachelors',  ' >50K'),\n",
       "            (   ' Doctorate', ' <=50K'),\n",
       "            (   ' Doctorate',  ' >50K'),\n",
       "            (     ' HS-grad', ' <=50K'),\n",
       "            (     ' HS-grad',  ' >50K'),\n",
       "            (     ' Masters', ' <=50K'),\n",
       "            (     ' Masters',  ' >50K'),\n",
       "            (   ' Preschool', ' <=50K'),\n",
       "            ( ' Prof-school', ' <=50K'),\n",
       "            ( ' Prof-school',  ' >50K'),\n",
       "            (' Some-college', ' <=50K'),\n",
       "            (' Some-college',  ' >50K')],\n",
       "           names=['education', 'income'])"
      ]
     },
     "execution_count": 43,
     "metadata": {},
     "output_type": "execute_result"
    }
   ],
   "source": [
    "dataset3.index"
   ]
  },
  {
   "cell_type": "code",
   "execution_count": 45,
   "id": "957a82da",
   "metadata": {},
   "outputs": [
    {
     "data": {
      "text/plain": [
       "(3134, 2221)"
      ]
     },
     "execution_count": 45,
     "metadata": {},
     "output_type": "execute_result"
    }
   ],
   "source": [
    "dataset3[' Bachelors',' <=50K'], dataset3[' Bachelors', ' >50K']"
   ]
  },
  {
   "cell_type": "code",
   "execution_count": 46,
   "id": "056d90be",
   "metadata": {},
   "outputs": [],
   "source": [
    "Total = 3134 + 2221"
   ]
  },
  {
   "cell_type": "code",
   "execution_count": 48,
   "id": "9586329c",
   "metadata": {},
   "outputs": [
    {
     "data": {
      "text/plain": [
       "41.47525676937442"
      ]
     },
     "execution_count": 48,
     "metadata": {},
     "output_type": "execute_result"
    }
   ],
   "source": [
    "# % > 50K\n",
    "\n",
    "(2221 / Total) * 100"
   ]
  },
  {
   "cell_type": "code",
   "execution_count": 49,
   "id": "cbd2fd39",
   "metadata": {},
   "outputs": [
    {
     "data": {
      "text/plain": [
       "58.52474323062559"
      ]
     },
     "execution_count": 49,
     "metadata": {},
     "output_type": "execute_result"
    }
   ],
   "source": [
    "# % <=50K\n",
    "\n",
    "(3134 / Total) * 100"
   ]
  },
  {
   "cell_type": "markdown",
   "id": "c7dacb34",
   "metadata": {},
   "source": [
    "### Estudando um pouco sobre Coeficientes e taxas"
   ]
  },
  {
   "cell_type": "code",
   "execution_count": 50,
   "id": "3f680bf4",
   "metadata": {},
   "outputs": [],
   "source": [
    "dt = {'ano': ['1', '2', '3', '4', 'total'],\n",
    "     'matriculas_marco': [70, 50, 47, 23, 190],\n",
    "     'matriculas_novembro': [65, 48, 40, 22, 175]}"
   ]
  },
  {
   "cell_type": "code",
   "execution_count": 51,
   "id": "cd902fb2",
   "metadata": {},
   "outputs": [
    {
     "data": {
      "text/plain": [
       "{'ano': ['1', '2', '3', '4', 'total'],\n",
       " 'matriculas_marco': [70, 50, 47, 23, 190],\n",
       " 'matriculas_novembro': [65, 48, 40, 22, 175]}"
      ]
     },
     "execution_count": 51,
     "metadata": {},
     "output_type": "execute_result"
    }
   ],
   "source": [
    "dt"
   ]
  },
  {
   "cell_type": "code",
   "execution_count": 52,
   "id": "07a11b01",
   "metadata": {},
   "outputs": [],
   "source": [
    "dt_dataframe = pd.DataFrame(dt)"
   ]
  },
  {
   "cell_type": "code",
   "execution_count": 53,
   "id": "2f2cdd1d",
   "metadata": {},
   "outputs": [
    {
     "data": {
      "text/html": [
       "<div>\n",
       "<style scoped>\n",
       "    .dataframe tbody tr th:only-of-type {\n",
       "        vertical-align: middle;\n",
       "    }\n",
       "\n",
       "    .dataframe tbody tr th {\n",
       "        vertical-align: top;\n",
       "    }\n",
       "\n",
       "    .dataframe thead th {\n",
       "        text-align: right;\n",
       "    }\n",
       "</style>\n",
       "<table border=\"1\" class=\"dataframe\">\n",
       "  <thead>\n",
       "    <tr style=\"text-align: right;\">\n",
       "      <th></th>\n",
       "      <th>ano</th>\n",
       "      <th>matriculas_marco</th>\n",
       "      <th>matriculas_novembro</th>\n",
       "    </tr>\n",
       "  </thead>\n",
       "  <tbody>\n",
       "    <tr>\n",
       "      <th>0</th>\n",
       "      <td>1</td>\n",
       "      <td>70</td>\n",
       "      <td>65</td>\n",
       "    </tr>\n",
       "    <tr>\n",
       "      <th>1</th>\n",
       "      <td>2</td>\n",
       "      <td>50</td>\n",
       "      <td>48</td>\n",
       "    </tr>\n",
       "    <tr>\n",
       "      <th>2</th>\n",
       "      <td>3</td>\n",
       "      <td>47</td>\n",
       "      <td>40</td>\n",
       "    </tr>\n",
       "    <tr>\n",
       "      <th>3</th>\n",
       "      <td>4</td>\n",
       "      <td>23</td>\n",
       "      <td>22</td>\n",
       "    </tr>\n",
       "    <tr>\n",
       "      <th>4</th>\n",
       "      <td>total</td>\n",
       "      <td>190</td>\n",
       "      <td>175</td>\n",
       "    </tr>\n",
       "  </tbody>\n",
       "</table>\n",
       "</div>"
      ],
      "text/plain": [
       "     ano  matriculas_marco  matriculas_novembro\n",
       "0      1                70                   65\n",
       "1      2                50                   48\n",
       "2      3                47                   40\n",
       "3      4                23                   22\n",
       "4  total               190                  175"
      ]
     },
     "execution_count": 53,
     "metadata": {},
     "output_type": "execute_result"
    }
   ],
   "source": [
    "dt_dataframe"
   ]
  },
  {
   "cell_type": "code",
   "execution_count": 56,
   "id": "eb916ae6",
   "metadata": {},
   "outputs": [],
   "source": [
    "# Coeficiente\n",
    "\n",
    "dt_dataframe['coeficiente'] = ((dt_dataframe['matriculas_marco'] - dt_dataframe['matriculas_novembro']) / dt_dataframe['matriculas_marco'])\n",
    "\n",
    "\n",
    "# Cálculo da taxa de evasão de discentes\n",
    "\n",
    "dt_dataframe['taxa_evasao'] = ((dt_dataframe['matriculas_marco'] - dt_dataframe['matriculas_novembro']) / dt_dataframe['matriculas_marco']) * 100 "
   ]
  },
  {
   "cell_type": "code",
   "execution_count": 57,
   "id": "c1a15139",
   "metadata": {},
   "outputs": [
    {
     "data": {
      "text/html": [
       "<div>\n",
       "<style scoped>\n",
       "    .dataframe tbody tr th:only-of-type {\n",
       "        vertical-align: middle;\n",
       "    }\n",
       "\n",
       "    .dataframe tbody tr th {\n",
       "        vertical-align: top;\n",
       "    }\n",
       "\n",
       "    .dataframe thead th {\n",
       "        text-align: right;\n",
       "    }\n",
       "</style>\n",
       "<table border=\"1\" class=\"dataframe\">\n",
       "  <thead>\n",
       "    <tr style=\"text-align: right;\">\n",
       "      <th></th>\n",
       "      <th>ano</th>\n",
       "      <th>matriculas_marco</th>\n",
       "      <th>matriculas_novembro</th>\n",
       "      <th>taxa_evasao</th>\n",
       "      <th>coeficiente</th>\n",
       "    </tr>\n",
       "  </thead>\n",
       "  <tbody>\n",
       "    <tr>\n",
       "      <th>0</th>\n",
       "      <td>1</td>\n",
       "      <td>70</td>\n",
       "      <td>65</td>\n",
       "      <td>7.142857</td>\n",
       "      <td>0.071429</td>\n",
       "    </tr>\n",
       "    <tr>\n",
       "      <th>1</th>\n",
       "      <td>2</td>\n",
       "      <td>50</td>\n",
       "      <td>48</td>\n",
       "      <td>4.000000</td>\n",
       "      <td>0.040000</td>\n",
       "    </tr>\n",
       "    <tr>\n",
       "      <th>2</th>\n",
       "      <td>3</td>\n",
       "      <td>47</td>\n",
       "      <td>40</td>\n",
       "      <td>14.893617</td>\n",
       "      <td>0.148936</td>\n",
       "    </tr>\n",
       "    <tr>\n",
       "      <th>3</th>\n",
       "      <td>4</td>\n",
       "      <td>23</td>\n",
       "      <td>22</td>\n",
       "      <td>4.347826</td>\n",
       "      <td>0.043478</td>\n",
       "    </tr>\n",
       "    <tr>\n",
       "      <th>4</th>\n",
       "      <td>total</td>\n",
       "      <td>190</td>\n",
       "      <td>175</td>\n",
       "      <td>7.894737</td>\n",
       "      <td>0.078947</td>\n",
       "    </tr>\n",
       "  </tbody>\n",
       "</table>\n",
       "</div>"
      ],
      "text/plain": [
       "     ano  matriculas_marco  matriculas_novembro  taxa_evasao  coeficiente\n",
       "0      1                70                   65     7.142857     0.071429\n",
       "1      2                50                   48     4.000000     0.040000\n",
       "2      3                47                   40    14.893617     0.148936\n",
       "3      4                23                   22     4.347826     0.043478\n",
       "4  total               190                  175     7.894737     0.078947"
      ]
     },
     "execution_count": 57,
     "metadata": {},
     "output_type": "execute_result"
    }
   ],
   "source": [
    "dt_dataframe"
   ]
  },
  {
   "cell_type": "code",
   "execution_count": null,
   "id": "17d72d91",
   "metadata": {},
   "outputs": [],
   "source": []
  }
 ],
 "metadata": {
  "kernelspec": {
   "display_name": "Python 3",
   "language": "python",
   "name": "python3"
  },
  "language_info": {
   "codemirror_mode": {
    "name": "ipython",
    "version": 3
   },
   "file_extension": ".py",
   "mimetype": "text/x-python",
   "name": "python",
   "nbconvert_exporter": "python",
   "pygments_lexer": "ipython3",
   "version": "3.8.8"
  }
 },
 "nbformat": 4,
 "nbformat_minor": 5
}
